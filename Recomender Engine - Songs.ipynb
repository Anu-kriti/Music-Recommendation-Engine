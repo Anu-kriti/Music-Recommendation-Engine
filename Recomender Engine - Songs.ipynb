{
 "cells": [
  {
   "cell_type": "code",
   "execution_count": 1,
   "metadata": {},
   "outputs": [],
   "source": [
    "import numpy as np\n",
    "import pandas as pd \n",
    "import matplotlib.pyplot as plt \n",
    "import lightgbm as lgb \n",
    "import datetime\n",
    "import math\n",
    "import gc \n"
   ]
  },
  {
   "cell_type": "code",
   "execution_count": 2,
   "metadata": {},
   "outputs": [
    {
     "name": "stdout",
     "output_type": "stream",
     "text": [
      "Recomender Engine - Songs.html\n",
      "Recomender Engine - Songs.ipynb\n",
      "members.csv\n",
      "sample_submission.csv\n",
      "song_extra_info.csv\n",
      "songs.csv\n",
      "submission_lgbm_avg.csv\n",
      "test.csv\n",
      "train.csv\n",
      "\n"
     ]
    }
   ],
   "source": [
    "from subprocess import check_output\n",
    "print(check_output([\"ls\"]).decode(\"utf8\"))"
   ]
  },
  {
   "cell_type": "code",
   "execution_count": 3,
   "metadata": {},
   "outputs": [],
   "source": [
    "train = pd.read_csv(\"train.csv\")\n",
    "test = pd.read_csv(\"test.csv\")\n",
    "members = pd.read_csv(\"members.csv\",  parse_dates=['registration_init_time','expiration_date'])\n",
    "songs = pd.read_csv(\"songs.csv\")\n",
    "song_extra_info = pd.read_csv(\"song_extra_info.csv\")\n"
   ]
  },
  {
   "cell_type": "code",
   "execution_count": 4,
   "metadata": {},
   "outputs": [
    {
     "name": "stderr",
     "output_type": "stream",
     "text": [
      "C:\\ProgramData\\Anaconda3\\lib\\site-packages\\pandas\\core\\frame.py:6201: FutureWarning: Sorting because non-concatenation axis is not aligned. A future version\n",
      "of pandas will change to not sort by default.\n",
      "\n",
      "To accept the future behavior, pass 'sort=True'.\n",
      "\n",
      "To retain the current behavior and silence the warning, pass sort=False\n",
      "\n",
      "  sort=sort)\n"
     ]
    }
   ],
   "source": [
    "Final = train.append(test)\n",
    "Final = Final.merge(songs , on = \"song_id\", how = \"left\")\n",
    "\n",
    "members['membership_days'] = members['expiration_date'].subtract(members['registration_init_time']).dt.days.astype(int)\n",
    "members['reg_year'] = members['registration_init_time'].dt.year\n",
    "members['reg_mth'] = members['registration_init_time'].dt.month\n",
    "members['reg_day'] = members['registration_init_time'].dt.day\n",
    "members['exp_year'] = members['expiration_date'].dt.year\n",
    "members['exp_mth'] = members['expiration_date'].dt.month\n",
    "members['exp_day'] = members['expiration_date'].dt.day\n",
    "\n",
    "\n",
    "members = members.drop(['registration_init_time', \"expiration_date\"], 1)"
   ]
  },
  {
   "cell_type": "code",
   "execution_count": 5,
   "metadata": {},
   "outputs": [],
   "source": [
    "def isrc_to_year(isrc):\n",
    "    if type(isrc) == str:\n",
    "        if int(isrc[5:7]) > 17:\n",
    "            return 1900 + int(isrc[5:7])\n",
    "        else:\n",
    "            return 2000 + int(isrc[5:7])\n",
    "    else:\n",
    "        return np.nan\n",
    "    \n",
    "song_extra_info['year'] = song_extra_info['isrc'].apply(isrc_to_year)"
   ]
  },
  {
   "cell_type": "code",
   "execution_count": 20,
   "metadata": {},
   "outputs": [],
   "source": [
    "Final = Final.merge(members, on = \"msno\", how = \"left\")\n",
    "Final = Final.merge(song_extra_info, on = \"song_id\", how = \"left\")\n",
    "\n",
    "Final.song_length.fillna(Final.song_length.median(), inplace = True)\n",
    "Final.song_id = Final.song_id.astype('category')\n",
    "\n",
    "del members, songs, song_extra_info"
   ]
  },
  {
   "cell_type": "code",
   "execution_count": 21,
   "metadata": {},
   "outputs": [
    {
     "data": {
      "text/plain": [
       "id                    7377418\n",
       "msno                        0\n",
       "song_id                     0\n",
       "source_screen_name     577687\n",
       "source_system_tab       33291\n",
       "source_type             28836\n",
       "target                2556790\n",
       "song_length                 0\n",
       "genre_ids              160565\n",
       "artist_name               139\n",
       "composer              2295010\n",
       "lyricist              4403542\n",
       "language                  192\n",
       "city_x                      0\n",
       "bd_x                        0\n",
       "gender_x              4013703\n",
       "registered_via_x            0\n",
       "membership_days_x           0\n",
       "reg_year_x                  0\n",
       "reg_mth_x                   0\n",
       "reg_day_x                   0\n",
       "exp_year_x                  0\n",
       "exp_mth_x                   0\n",
       "exp_day_x                   0\n",
       "name_x                   2235\n",
       "isrc_x                 774501\n",
       "year_x                 774501\n",
       "city_y                      0\n",
       "bd_y                        0\n",
       "gender_y              4013703\n",
       "                       ...   \n",
       "isrc_y                 774501\n",
       "year_y                 774501\n",
       "city_x                      0\n",
       "bd_x                        0\n",
       "gender_x              4013703\n",
       "registered_via_x            0\n",
       "membership_days_x           0\n",
       "reg_year_x                  0\n",
       "reg_mth_x                   0\n",
       "reg_day_x                   0\n",
       "exp_year_x                  0\n",
       "exp_mth_x                   0\n",
       "exp_day_x                   0\n",
       "name_x                   2235\n",
       "isrc_x                 774501\n",
       "year_x                 774501\n",
       "city_y                      0\n",
       "bd_y                        0\n",
       "gender_y              4013703\n",
       "registered_via_y            0\n",
       "membership_days_y           0\n",
       "reg_year_y                  0\n",
       "reg_mth_y                   0\n",
       "reg_day_y                   0\n",
       "exp_year_y                  0\n",
       "exp_mth_y                   0\n",
       "exp_day_y                   0\n",
       "name_y                   2235\n",
       "isrc_y                 774501\n",
       "year_y                 774501\n",
       "Length: 69, dtype: int64"
      ]
     },
     "execution_count": 21,
     "metadata": {},
     "output_type": "execute_result"
    }
   ],
   "source": [
    "Final.isnull().sum()"
   ]
  },
  {
   "cell_type": "code",
   "execution_count": 22,
   "metadata": {},
   "outputs": [],
   "source": [
    "def genre_id_count(x):\n",
    "    if x == 'NaN':\n",
    "        return 0\n",
    "    else:\n",
    "        return x.count('|') + 1\n",
    "\n",
    "Final['genre_ids_cnt'] = Final['genre_ids'].astype('category').apply(genre_id_count)\n",
    "\n",
    "def lyricist_count(x):\n",
    "    if x == 'NaN':\n",
    "        return 0\n",
    "    else:\n",
    "        return sum(map(x.count, ['|', '/', '\\\\', ';'])) + 1\n",
    "    return sum(map(x.count, ['|', '/', '\\\\', ';']))\n",
    "Final['lyricist_cnt'] = Final['lyricist'].astype('category').apply(lyricist_count)\n",
    "\n",
    "def composer_count(x):\n",
    "    if x == 'NaN':\n",
    "        return 0\n",
    "    else:\n",
    "        return sum(map(x.count, ['|', '/', '\\\\', ';'])) + 1\n",
    "Final['composer_cnt'] = Final['composer'].astype('category').apply(composer_count)\n",
    "\n",
    "def is_featured(x):\n",
    "    if 'feat' in str(x) :\n",
    "        return 1\n",
    "    return 0\n",
    "Final['is_featured'] = Final['artist_name'].apply(is_featured).astype(np.int8)\n",
    "\n",
    "def artist_count(x):\n",
    "    if x == 'NaN':\n",
    "        return 0\n",
    "    else:\n",
    "        return x.count('and') + x.count(',') + x.count('feat') + x.count('&')\n",
    "\n",
    "Final['artist_count'] = Final['artist_name'].astype('category').apply(artist_count).astype(np.int8)\n",
    "\n",
    "# if artist is same as composer\n",
    "Final['artist_composer'] = (Final['artist_name'] == Final['composer']).astype(np.int8)\n",
    "\n",
    "# if artist, lyricist and composer are all three same\n",
    "Final['artist_composer_lyricist'] = ((Final['artist_name'] == Final['composer']) & (Final['artist_name'] == Final['lyricist']) & (Final['composer'] == Final['lyricist'])).astype(np.int8)\n",
    "\n",
    "\n",
    "# is song language 17 or 45. \n",
    "def song_lang_boolean(x):\n",
    "    if '17.0' in str(x) or '45.0' in str(x):\n",
    "        return 1\n",
    "    return 0\n",
    "\n",
    "Final['song_lang_boolean'] = Final['language'].apply(song_lang_boolean).astype(np.int8)\n",
    "\n",
    "\n",
    "_mean_song_length = np.mean(Final['song_length'])\n",
    "def smaller_song(x):\n",
    "    if x < _mean_song_length:\n",
    "        return 1\n",
    "    return 0\n",
    "\n",
    "Final['smaller_song'] = Final['song_length'].apply(smaller_song).astype(np.int8)\n",
    "\n",
    "# number of times a song has been played before\n",
    "_dict_count_song_played_final = {k: v for k, v in Final['song_id'].value_counts().iteritems()}\n",
    "\n",
    "def count_song_played(x):\n",
    "    try:\n",
    "        return _dict_count_song_played_final[x]\n",
    "    except KeyError:\n",
    "            return 0\n",
    "    \n",
    "\n",
    "Final['count_song_played'] = Final['song_id'].apply(count_song_played).astype(np.int64)\n",
    "\n",
    "\n",
    "# number of times the artist has been played\n",
    "_dict_count_artist_played_final = {k: v for k, v in Final['artist_name'].value_counts().iteritems()}\n",
    "def count_artist_played(x):\n",
    "    try:\n",
    "        return _dict_count_artist_played_final[x]\n",
    "    except KeyError:\n",
    "            return 0\n",
    "\n",
    "Final['count_artist_played'] = Final['artist_name'].apply(count_artist_played).astype(np.int64)\n",
    "\n"
   ]
  },
  {
   "cell_type": "code",
   "execution_count": 26,
   "metadata": {},
   "outputs": [],
   "source": [
    "for col in Final.columns:\n",
    "    Final[col]"
   ]
  },
  {
   "cell_type": "code",
   "execution_count": 25,
   "metadata": {
    "scrolled": true
   },
   "outputs": [
    {
     "name": "stdout",
     "output_type": "stream",
     "text": [
      "Train test and validation sets\n"
     ]
    },
    {
     "ename": "AttributeError",
     "evalue": "'DataFrame' object has no attribute 'dtype'",
     "output_type": "error",
     "traceback": [
      "\u001b[1;31m---------------------------------------------------------------------------\u001b[0m",
      "\u001b[1;31mAttributeError\u001b[0m                            Traceback (most recent call last)",
      "\u001b[1;32m<ipython-input-25-7e832f34a776>\u001b[0m in \u001b[0;36m<module>\u001b[1;34m()\u001b[0m\n\u001b[0;32m      2\u001b[0m \u001b[1;33m\u001b[0m\u001b[0m\n\u001b[0;32m      3\u001b[0m \u001b[1;32mfor\u001b[0m \u001b[0mcol\u001b[0m \u001b[1;32min\u001b[0m \u001b[0mFinal\u001b[0m\u001b[1;33m.\u001b[0m\u001b[0mcolumns\u001b[0m\u001b[1;33m:\u001b[0m\u001b[1;33m\u001b[0m\u001b[0m\n\u001b[1;32m----> 4\u001b[1;33m     \u001b[1;32mif\u001b[0m \u001b[0mFinal\u001b[0m\u001b[1;33m[\u001b[0m\u001b[0mcol\u001b[0m\u001b[1;33m]\u001b[0m\u001b[1;33m.\u001b[0m\u001b[0mdtype\u001b[0m \u001b[1;33m==\u001b[0m \u001b[0mobject\u001b[0m\u001b[1;33m:\u001b[0m\u001b[1;33m\u001b[0m\u001b[0m\n\u001b[0m\u001b[0;32m      5\u001b[0m         \u001b[0mFinal\u001b[0m\u001b[1;33m[\u001b[0m\u001b[0mcol\u001b[0m\u001b[1;33m]\u001b[0m \u001b[1;33m=\u001b[0m \u001b[0mFinal\u001b[0m\u001b[1;33m[\u001b[0m\u001b[0mcol\u001b[0m\u001b[1;33m]\u001b[0m\u001b[1;33m.\u001b[0m\u001b[0mastype\u001b[0m\u001b[1;33m(\u001b[0m\u001b[1;34m'category'\u001b[0m\u001b[1;33m)\u001b[0m\u001b[1;33m\u001b[0m\u001b[0m\n\u001b[0;32m      6\u001b[0m \u001b[1;33m\u001b[0m\u001b[0m\n",
      "\u001b[1;32mC:\\ProgramData\\Anaconda3\\lib\\site-packages\\pandas\\core\\generic.py\u001b[0m in \u001b[0;36m__getattr__\u001b[1;34m(self, name)\u001b[0m\n\u001b[0;32m   4370\u001b[0m             \u001b[1;32mif\u001b[0m \u001b[0mself\u001b[0m\u001b[1;33m.\u001b[0m\u001b[0m_info_axis\u001b[0m\u001b[1;33m.\u001b[0m\u001b[0m_can_hold_identifiers_and_holds_name\u001b[0m\u001b[1;33m(\u001b[0m\u001b[0mname\u001b[0m\u001b[1;33m)\u001b[0m\u001b[1;33m:\u001b[0m\u001b[1;33m\u001b[0m\u001b[0m\n\u001b[0;32m   4371\u001b[0m                 \u001b[1;32mreturn\u001b[0m \u001b[0mself\u001b[0m\u001b[1;33m[\u001b[0m\u001b[0mname\u001b[0m\u001b[1;33m]\u001b[0m\u001b[1;33m\u001b[0m\u001b[0m\n\u001b[1;32m-> 4372\u001b[1;33m             \u001b[1;32mreturn\u001b[0m \u001b[0mobject\u001b[0m\u001b[1;33m.\u001b[0m\u001b[0m__getattribute__\u001b[0m\u001b[1;33m(\u001b[0m\u001b[0mself\u001b[0m\u001b[1;33m,\u001b[0m \u001b[0mname\u001b[0m\u001b[1;33m)\u001b[0m\u001b[1;33m\u001b[0m\u001b[0m\n\u001b[0m\u001b[0;32m   4373\u001b[0m \u001b[1;33m\u001b[0m\u001b[0m\n\u001b[0;32m   4374\u001b[0m     \u001b[1;32mdef\u001b[0m \u001b[0m__setattr__\u001b[0m\u001b[1;33m(\u001b[0m\u001b[0mself\u001b[0m\u001b[1;33m,\u001b[0m \u001b[0mname\u001b[0m\u001b[1;33m,\u001b[0m \u001b[0mvalue\u001b[0m\u001b[1;33m)\u001b[0m\u001b[1;33m:\u001b[0m\u001b[1;33m\u001b[0m\u001b[0m\n",
      "\u001b[1;31mAttributeError\u001b[0m: 'DataFrame' object has no attribute 'dtype'"
     ]
    }
   ],
   "source": [
    "print(\"Train test and validation sets\")\n",
    "\n",
    "for col in Final.columns:\n",
    "    if Final[col].dtype == object:\n",
    "        Final[col] = Final[col].astype('category')\n",
    "\n",
    "train = Final[-Final['target'].isnull()]\n",
    "test = Final[Final['target'].isnull()]\n",
    "\n",
    "X_train = train.drop(['target'], axis=1)\n",
    "y_train = train['target'].values\n",
    "\n",
    "X_test = test.drop(['id'], axis=1)\n",
    "ids = test['id'].values\n",
    "\n",
    "\n",
    "del train, test; gc.collect();\n",
    "\n",
    "d_train_final = lgb.Dataset(X_train, y_train)\n",
    "watchlist_final = lgb.Dataset(X_train, y_train)\n",
    "print('Processed data...')"
   ]
  },
  {
   "cell_type": "code",
   "execution_count": null,
   "metadata": {},
   "outputs": [],
   "source": [
    "params1 = {\n",
    "        'objective': 'binary',\n",
    "        'metric': 'binary_logloss',\n",
    "        'boosting': 'gbdt',\n",
    "        'learning_rate': 0.3 ,\n",
    "        'verbose': 0,\n",
    "        'num_leaves': 108,\n",
    "        'bagging_fraction': 0.95,\n",
    "        'bagging_freq': 1,\n",
    "        'bagging_seed': 1,\n",
    "        'feature_fraction': 0.9,\n",
    "        'feature_fraction_seed': 1,\n",
    "        'max_bin': 256,\n",
    "        'max_depth': 10,\n",
    "        'num_rounds': 200,\n",
    "        'metric' : 'auc'\n",
    "    }\n",
    "\n",
    "%time model_f1 = lgb.train(params1, train_set=d_train_final,  valid_sets=watchlist_final, verbose_eval=5)\n",
    "\n",
    "params2 = {\n",
    "        'objective': 'binary',\n",
    "        'metric': 'binary_logloss',\n",
    "        'boosting': 'dart',\n",
    "        'learning_rate': 0.3 ,\n",
    "        'verbose': 0,\n",
    "        'num_leaves': 108,\n",
    "        'bagging_fraction': 0.95,\n",
    "        'bagging_freq': 1,\n",
    "        'bagging_seed': 1,\n",
    "        'feature_fraction': 0.9,\n",
    "        'feature_fraction_seed': 1,\n",
    "        'max_bin': 256,\n",
    "        'max_depth': 10,\n",
    "        'num_rounds': 200,\n",
    "        'metric' : 'auc'\n",
    "    }\n",
    "\n",
    "%time model_f2 = lgb.train(params2, train_set=d_train_final,  valid_sets=watchlist_final, verbose_eval=5)"
   ]
  },
  {
   "cell_type": "code",
   "execution_count": null,
   "metadata": {},
   "outputs": [],
   "source": [
    "print('Making predictions')\n",
    "p_test_1 = model_f1.predict(X_test)\n",
    "p_test_2 = model_f2.predict(X_test)\n",
    "p_test_avg = np.mean([p_test_1, p_test_2], axis = 0)\n",
    "\n",
    "\n",
    "print('Done making predictions')"
   ]
  },
  {
   "cell_type": "code",
   "execution_count": null,
   "metadata": {},
   "outputs": [],
   "source": [
    "print ('Saving predictions Model of gbdt')\n",
    "\n",
    "subm = pd.DataFrame()\n",
    "subm['id'] = ids\n",
    "subm['target'] = p_test_avg\n",
    "subm.to_csv('submission_lgbm_avg.csv', index = False, float_format = '%.5f')\n",
    "\n",
    "print('Done!')"
   ]
  }
 ],
 "metadata": {
  "kernelspec": {
   "display_name": "Python 3",
   "language": "python",
   "name": "python3"
  },
  "language_info": {
   "codemirror_mode": {
    "name": "ipython",
    "version": 3
   },
   "file_extension": ".py",
   "mimetype": "text/x-python",
   "name": "python",
   "nbconvert_exporter": "python",
   "pygments_lexer": "ipython3",
   "version": "3.6.5"
  }
 },
 "nbformat": 4,
 "nbformat_minor": 2
}
